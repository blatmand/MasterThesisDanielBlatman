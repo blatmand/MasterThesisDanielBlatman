{
 "cells": [
  {
   "cell_type": "markdown",
   "id": "1661fbd6",
   "metadata": {},
   "source": [
    "## How To Bind User Parameters to a Quantum Kernel\n",
    "\n",
    "In this guide, we show the ins and outs of binding user parameters to a quantum kernel in Qiskit. \n",
    "\n",
    "We can create a trainable `QuantumKernel` (`QK`) by specifying that some of our feature map's parameters are trainable parameters rather than inputs. This can be done at initialization by passing an array of `Parameters` as the `user_parameters` argument to the `QK` constructor. Alternatively, this can be done using the `QK.user_parameters` setter after initialization.\n",
    "\n",
    "After the `QK.user_parameters` field has been set, `QK.assign_user_parameters()` offers two ways to bind user parameters\n",
    "\n",
    "1. Bind user parameters using a dictionary\n",
    "    - Keys to dict must be parameters within the feature map and must exist in `QK.user_parameters`\n",
    "    - Values in dict may be either numerical assignments or `ParameterExpression` objects\n",
    "2. Bind user parameters using a list of values\n",
    "    - If binding using a list of values, the list must be of same size and ordering as `QK.user_parameters`. Each input value will be bound to its corresponding user_parameters value.\n",
    "     \n",
    "We begin by importing a few packages and instantiating a feature map circuit with three trainable user parameters, `θ`, and three input parameters, `x`."
   ]
  },
  {
   "cell_type": "code",
   "execution_count": 1,
   "id": "c48c2b6b",
   "metadata": {},
   "outputs": [],
   "source": [
    "#pylint: disable=import-error, wrong-import-position, pointless-statement\n",
    "import os\n",
    "import sys\n",
    "import numpy as np\n",
    "\n",
    "from qiskit import QuantumCircuit\n",
    "from qiskit.circuit import ParameterVector\n",
    "from qiskit_machine_learning.kernels import QuantumKernel"
   ]
  },
  {
   "cell_type": "code",
   "execution_count": 2,
   "id": "9a3dffe8",
   "metadata": {},
   "outputs": [
    {
     "name": "stdout",
     "output_type": "stream",
     "text": [
      "input_params: x, ['x[0]', 'x[1]', 'x[2]']\n",
      "user_params: θ, ['θ[0]', 'θ[1]', 'θ[2]']\n"
     ]
    },
    {
     "data": {
      "text/html": [
       "<pre style=\"word-wrap: normal;white-space: pre;background: #fff0;line-height: 1.1;font-family: &quot;Courier New&quot;,Courier,monospace\">     ┌───┐┌──────────┐                        ┌──────────┐\n",
       "q_0: ┤ H ├┤ Ry(θ[0]) ├─────■──────────────────┤ Rx(x[2]) ├\n",
       "     ├───┤├──────────┤┌────┴─────┐            └────┬─────┘\n",
       "q_1: ┤ H ├┤ Ry(θ[1]) ├┤ Rx(x[0]) ├─────■───────────┼──────\n",
       "     ├───┤├──────────┤└──────────┘┌────┴─────┐     │      \n",
       "q_2: ┤ H ├┤ Ry(θ[2]) ├────────────┤ Rx(x[1]) ├─────■──────\n",
       "     └───┘└──────────┘            └──────────┘            </pre>"
      ],
      "text/plain": [
       "     ┌───┐┌──────────┐                        ┌──────────┐\n",
       "q_0: ┤ H ├┤ Ry(θ[0]) ├─────■──────────────────┤ Rx(x[2]) ├\n",
       "     ├───┤├──────────┤┌────┴─────┐            └────┬─────┘\n",
       "q_1: ┤ H ├┤ Ry(θ[1]) ├┤ Rx(x[0]) ├─────■───────────┼──────\n",
       "     ├───┤├──────────┤└──────────┘┌────┴─────┐     │      \n",
       "q_2: ┤ H ├┤ Ry(θ[2]) ├────────────┤ Rx(x[1]) ├─────■──────\n",
       "     └───┘└──────────┘            └──────────┘            "
      ]
     },
     "execution_count": 2,
     "metadata": {},
     "output_type": "execute_result"
    }
   ],
   "source": [
    "NUM_QUBITS = 3\n",
    "fm = QuantumCircuit(NUM_QUBITS)\n",
    "input_params = ip = ParameterVector('x', NUM_QUBITS)\n",
    "user_params  = up = ParameterVector('θ', NUM_QUBITS)\n",
    "\n",
    "for i in range(NUM_QUBITS):\n",
    "    fm.h(i)\n",
    "    fm.ry(up[i], i)\n",
    "\n",
    "for i in range(NUM_QUBITS):\n",
    "    fm.crx(ip[i], (i)%NUM_QUBITS,   (i+1)%NUM_QUBITS)\n",
    "\n",
    "# Define a Quantum Kernel using our trainable feature map\n",
    "qk = QuantumKernel(fm, user_parameters=user_params[:NUM_QUBITS])\n",
    "\n",
    "print(\"input_params:\", input_params)\n",
    "print(\"user_params:\", user_params)\n",
    "qk.feature_map.draw()"
   ]
  },
  {
   "cell_type": "markdown",
   "id": "095ada7a",
   "metadata": {},
   "source": [
    "### Option  1: Bind User Parameters with a Dictionary\n",
    "\n",
    "Here, we will use a dictionary of the form `{Parameter : Value}` that maps user parameters to either numeric values or `ParameterExpression` objects."
   ]
  },
  {
   "cell_type": "code",
   "execution_count": 3,
   "id": "043be1e7",
   "metadata": {},
   "outputs": [
    {
     "data": {
      "text/html": [
       "<pre style=\"word-wrap: normal;white-space: pre;background: #fff0;line-height: 1.1;font-family: &quot;Courier New&quot;,Courier,monospace\">     ┌───┐┌─────────┐                        ┌──────────┐\n",
       "q_0: ┤ H ├┤ Ry(π/2) ├─────■──────────────────┤ Rx(x[2]) ├\n",
       "     ├───┤├─────────┤┌────┴─────┐            └────┬─────┘\n",
       "q_1: ┤ H ├┤ Ry(π/3) ├┤ Rx(x[0]) ├─────■───────────┼──────\n",
       "     ├───┤├─────────┤└──────────┘┌────┴─────┐     │      \n",
       "q_2: ┤ H ├┤ Ry(π/4) ├────────────┤ Rx(x[1]) ├─────■──────\n",
       "     └───┘└─────────┘            └──────────┘            </pre>"
      ],
      "text/plain": [
       "     ┌───┐┌─────────┐                        ┌──────────┐\n",
       "q_0: ┤ H ├┤ Ry(π/2) ├─────■──────────────────┤ Rx(x[2]) ├\n",
       "     ├───┤├─────────┤┌────┴─────┐            └────┬─────┘\n",
       "q_1: ┤ H ├┤ Ry(π/3) ├┤ Rx(x[0]) ├─────■───────────┼──────\n",
       "     ├───┤├─────────┤└──────────┘┌────┴─────┐     │      \n",
       "q_2: ┤ H ├┤ Ry(π/4) ├────────────┤ Rx(x[1]) ├─────■──────\n",
       "     └───┘└─────────┘            └──────────┘            "
      ]
     },
     "execution_count": 3,
     "metadata": {},
     "output_type": "execute_result"
    }
   ],
   "source": [
    "# Bind parameters to numeric values\n",
    "param_binds = {up[0]: np.pi/2,\n",
    "               up[1]: np.pi/3,\n",
    "               up[2]: np.pi/4}\n",
    "\n",
    "qk.assign_user_parameters(param_binds)\n",
    "qk.feature_map.draw()"
   ]
  },
  {
   "cell_type": "markdown",
   "id": "dae73e81",
   "metadata": {},
   "source": [
    "We are free to bind a subset of our user parameters and re-bind parameters to new values."
   ]
  },
  {
   "cell_type": "code",
   "execution_count": 4,
   "id": "99289d92",
   "metadata": {},
   "outputs": [
    {
     "data": {
      "text/html": [
       "<pre style=\"word-wrap: normal;white-space: pre;background: #fff0;line-height: 1.1;font-family: &quot;Courier New&quot;,Courier,monospace\">     ┌───┐┌─────────┐                        ┌──────────┐\n",
       "q_0: ┤ H ├┤ Ry(π/6) ├─────■──────────────────┤ Rx(x[2]) ├\n",
       "     ├───┤├─────────┤┌────┴─────┐            └────┬─────┘\n",
       "q_1: ┤ H ├┤ Ry(π/5) ├┤ Rx(x[0]) ├─────■───────────┼──────\n",
       "     ├───┤├─────────┤└──────────┘┌────┴─────┐     │      \n",
       "q_2: ┤ H ├┤ Ry(π/4) ├────────────┤ Rx(x[1]) ├─────■──────\n",
       "     └───┘└─────────┘            └──────────┘            </pre>"
      ],
      "text/plain": [
       "     ┌───┐┌─────────┐                        ┌──────────┐\n",
       "q_0: ┤ H ├┤ Ry(π/6) ├─────■──────────────────┤ Rx(x[2]) ├\n",
       "     ├───┤├─────────┤┌────┴─────┐            └────┬─────┘\n",
       "q_1: ┤ H ├┤ Ry(π/5) ├┤ Rx(x[0]) ├─────■───────────┼──────\n",
       "     ├───┤├─────────┤└──────────┘┌────┴─────┐     │      \n",
       "q_2: ┤ H ├┤ Ry(π/4) ├────────────┤ Rx(x[1]) ├─────■──────\n",
       "     └───┘└─────────┘            └──────────┘            "
      ]
     },
     "execution_count": 4,
     "metadata": {},
     "output_type": "execute_result"
    }
   ],
   "source": [
    "# Create incomplete user param bindings\n",
    "param_binds = {up[0]: np.pi/6,\n",
    "               up[1]: np.pi/5}\n",
    "\n",
    "qk.assign_user_parameters(param_binds)\n",
    "qk.feature_map.draw()"
   ]
  },
  {
   "cell_type": "markdown",
   "id": "4f5d53da",
   "metadata": {},
   "source": [
    "We can  un-bind our user-parameters or assign user parameters to different `ParameterExpression` objects. This is done in in the same way that we would bind numeric values. "
   ]
  },
  {
   "cell_type": "code",
   "execution_count": 5,
   "id": "3a651322",
   "metadata": {},
   "outputs": [
    {
     "data": {
      "text/html": [
       "<pre style=\"word-wrap: normal;white-space: pre;background: #fff0;line-height: 1.1;font-family: &quot;Courier New&quot;,Courier,monospace\">     ┌───┐    ┌──────────┐                           ┌──────────┐\n",
       "q_0: ┤ H ├────┤ Ry(θ[0]) ├────────■──────────────────┤ Rx(x[2]) ├\n",
       "     ├───┤┌───┴──────────┴──┐┌────┴─────┐            └────┬─────┘\n",
       "q_1: ┤ H ├┤ Ry(θ[0] + θ[2]) ├┤ Rx(x[0]) ├─────■───────────┼──────\n",
       "     ├───┤└───┬──────────┬──┘└──────────┘┌────┴─────┐     │      \n",
       "q_2: ┤ H ├────┤ Ry(θ[2]) ├───────────────┤ Rx(x[1]) ├─────■──────\n",
       "     └───┘    └──────────┘               └──────────┘            </pre>"
      ],
      "text/plain": [
       "     ┌───┐    ┌──────────┐                           ┌──────────┐\n",
       "q_0: ┤ H ├────┤ Ry(θ[0]) ├────────■──────────────────┤ Rx(x[2]) ├\n",
       "     ├───┤┌───┴──────────┴──┐┌────┴─────┐            └────┬─────┘\n",
       "q_1: ┤ H ├┤ Ry(θ[0] + θ[2]) ├┤ Rx(x[0]) ├─────■───────────┼──────\n",
       "     ├───┤└───┬──────────┬──┘└──────────┘┌────┴─────┐     │      \n",
       "q_2: ┤ H ├────┤ Ry(θ[2]) ├───────────────┤ Rx(x[1]) ├─────■──────\n",
       "     └───┘    └──────────┘               └──────────┘            "
      ]
     },
     "execution_count": 5,
     "metadata": {},
     "output_type": "execute_result"
    }
   ],
   "source": [
    "# Create incomplete user param bindings\n",
    "param_binds = {up[0]: up[0],\n",
    "               up[1]: up[0]+up[2],\n",
    "               up[2]: up[2]}\n",
    "\n",
    "qk.assign_user_parameters(param_binds)\n",
    "qk.feature_map.draw()"
   ]
  },
  {
   "cell_type": "markdown",
   "id": "5c9a8dc4",
   "metadata": {},
   "source": [
    "### Option 2: Bind User Parameters with a List\n",
    "\n",
    "If the `user_parameters` have been specified in the `QuantumKernel`, we may bind and unbind those parameters using only lists of parameter values. Note that the list of values must always be equal in size to the `QuantumKernel.user_parameters` array, and the values will be assigned in order.\n",
    "\n",
    "Here we instantiate a new quantum kernel with the three user parameters unbound."
   ]
  },
  {
   "cell_type": "code",
   "execution_count": 8,
   "id": "04eada3c",
   "metadata": {},
   "outputs": [
    {
     "data": {
      "text/html": [
       "<pre style=\"word-wrap: normal;white-space: pre;background: #fff0;line-height: 1.1;font-family: &quot;Courier New&quot;,Courier,monospace\">     ┌───┐┌──────────┐                        ┌──────────┐\n",
       "q_0: ┤ H ├┤ Ry(θ[0]) ├─────■──────────────────┤ Rx(x[2]) ├\n",
       "     ├───┤├──────────┤┌────┴─────┐            └────┬─────┘\n",
       "q_1: ┤ H ├┤ Ry(θ[1]) ├┤ Rx(x[0]) ├─────■───────────┼──────\n",
       "     ├───┤├──────────┤└──────────┘┌────┴─────┐     │      \n",
       "q_2: ┤ H ├┤ Ry(θ[2]) ├────────────┤ Rx(x[1]) ├─────■──────\n",
       "     └───┘└──────────┘            └──────────┘            </pre>"
      ],
      "text/plain": [
       "     ┌───┐┌──────────┐                        ┌──────────┐\n",
       "q_0: ┤ H ├┤ Ry(θ[0]) ├─────■──────────────────┤ Rx(x[2]) ├\n",
       "     ├───┤├──────────┤┌────┴─────┐            └────┬─────┘\n",
       "q_1: ┤ H ├┤ Ry(θ[1]) ├┤ Rx(x[0]) ├─────■───────────┼──────\n",
       "     ├───┤├──────────┤└──────────┘┌────┴─────┐     │      \n",
       "q_2: ┤ H ├┤ Ry(θ[2]) ├────────────┤ Rx(x[1]) ├─────■──────\n",
       "     └───┘└──────────┘            └──────────┘            "
      ]
     },
     "execution_count": 8,
     "metadata": {},
     "output_type": "execute_result"
    }
   ],
   "source": [
    "qk = QuantumKernel(fm, user_parameters=user_params)\n",
    "qk.feature_map.draw()"
   ]
  },
  {
   "cell_type": "markdown",
   "id": "b0e8f85d",
   "metadata": {},
   "source": [
    "We may want to assign numerical values to parameters 0 and 2, while leaving parameter 1 unchanged."
   ]
  },
  {
   "cell_type": "code",
   "execution_count": 10,
   "id": "31baaf84",
   "metadata": {},
   "outputs": [
    {
     "data": {
      "text/html": [
       "<pre style=\"word-wrap: normal;white-space: pre;background: #fff0;line-height: 1.1;font-family: &quot;Courier New&quot;,Courier,monospace\">     ┌───┐┌─────────┐                         ┌──────────┐\n",
       "q_0: ┤ H ├┤ Ry(π/7) ├──────■──────────────────┤ Rx(x[2]) ├\n",
       "     ├───┤├─────────┴┐┌────┴─────┐            └────┬─────┘\n",
       "q_1: ┤ H ├┤ Ry(θ[1]) ├┤ Rx(x[0]) ├─────■───────────┼──────\n",
       "     ├───┤├─────────┬┘└──────────┘┌────┴─────┐     │      \n",
       "q_2: ┤ H ├┤ Ry(π/9) ├─────────────┤ Rx(x[1]) ├─────■──────\n",
       "     └───┘└─────────┘             └──────────┘            </pre>"
      ],
      "text/plain": [
       "     ┌───┐┌─────────┐                         ┌──────────┐\n",
       "q_0: ┤ H ├┤ Ry(π/7) ├──────■──────────────────┤ Rx(x[2]) ├\n",
       "     ├───┤├─────────┴┐┌────┴─────┐            └────┬─────┘\n",
       "q_1: ┤ H ├┤ Ry(θ[1]) ├┤ Rx(x[0]) ├─────■───────────┼──────\n",
       "     ├───┤├─────────┬┘└──────────┘┌────┴─────┐     │      \n",
       "q_2: ┤ H ├┤ Ry(π/9) ├─────────────┤ Rx(x[1]) ├─────■──────\n",
       "     └───┘└─────────┘             └──────────┘            "
      ]
     },
     "execution_count": 10,
     "metadata": {},
     "output_type": "execute_result"
    }
   ],
   "source": [
    "param_values = [np.pi/7, up[1], np.pi/9]\n",
    "qk.assign_user_parameters(param_values)\n",
    "qk.feature_map.draw()"
   ]
  },
  {
   "cell_type": "markdown",
   "id": "d4c7caa1",
   "metadata": {},
   "source": [
    "To assign parameter 1 to a numerical value, while leaving parameters 0 and 2 unchaged, we pass in a full list of the new values (values 0 and 2 will remain the same.)"
   ]
  },
  {
   "cell_type": "code",
   "execution_count": 11,
   "id": "8a6d8b7e",
   "metadata": {},
   "outputs": [
    {
     "data": {
      "text/html": [
       "<pre style=\"word-wrap: normal;white-space: pre;background: #fff0;line-height: 1.1;font-family: &quot;Courier New&quot;,Courier,monospace\">     ┌───┐┌─────────┐                        ┌──────────┐\n",
       "q_0: ┤ H ├┤ Ry(π/7) ├─────■──────────────────┤ Rx(x[2]) ├\n",
       "     ├───┤├─────────┤┌────┴─────┐            └────┬─────┘\n",
       "q_1: ┤ H ├┤ Ry(π/6) ├┤ Rx(x[0]) ├─────■───────────┼──────\n",
       "     ├───┤├─────────┤└──────────┘┌────┴─────┐     │      \n",
       "q_2: ┤ H ├┤ Ry(π/9) ├────────────┤ Rx(x[1]) ├─────■──────\n",
       "     └───┘└─────────┘            └──────────┘            </pre>"
      ],
      "text/plain": [
       "     ┌───┐┌─────────┐                        ┌──────────┐\n",
       "q_0: ┤ H ├┤ Ry(π/7) ├─────■──────────────────┤ Rx(x[2]) ├\n",
       "     ├───┤├─────────┤┌────┴─────┐            └────┬─────┘\n",
       "q_1: ┤ H ├┤ Ry(π/6) ├┤ Rx(x[0]) ├─────■───────────┼──────\n",
       "     ├───┤├─────────┤└──────────┘┌────┴─────┐     │      \n",
       "q_2: ┤ H ├┤ Ry(π/9) ├────────────┤ Rx(x[1]) ├─────■──────\n",
       "     └───┘└─────────┘            └──────────┘            "
      ]
     },
     "execution_count": 11,
     "metadata": {},
     "output_type": "execute_result"
    }
   ],
   "source": [
    "param_values = [np.pi/7, np.pi/6, np.pi/9]\n",
    "qk.assign_user_parameters(param_values)\n",
    "qk.feature_map.draw()"
   ]
  },
  {
   "cell_type": "markdown",
   "id": "0878c6e5",
   "metadata": {},
   "source": [
    "Finally, if we want to unbind all of our parameters, we may just pass in a list of the parameters themselves."
   ]
  },
  {
   "cell_type": "code",
   "execution_count": 12,
   "id": "31b68400",
   "metadata": {},
   "outputs": [
    {
     "data": {
      "text/html": [
       "<pre style=\"word-wrap: normal;white-space: pre;background: #fff0;line-height: 1.1;font-family: &quot;Courier New&quot;,Courier,monospace\">     ┌───┐┌──────────┐                        ┌──────────┐\n",
       "q_0: ┤ H ├┤ Ry(θ[0]) ├─────■──────────────────┤ Rx(x[2]) ├\n",
       "     ├───┤├──────────┤┌────┴─────┐            └────┬─────┘\n",
       "q_1: ┤ H ├┤ Ry(θ[1]) ├┤ Rx(x[0]) ├─────■───────────┼──────\n",
       "     ├───┤├──────────┤└──────────┘┌────┴─────┐     │      \n",
       "q_2: ┤ H ├┤ Ry(θ[2]) ├────────────┤ Rx(x[1]) ├─────■──────\n",
       "     └───┘└──────────┘            └──────────┘            </pre>"
      ],
      "text/plain": [
       "     ┌───┐┌──────────┐                        ┌──────────┐\n",
       "q_0: ┤ H ├┤ Ry(θ[0]) ├─────■──────────────────┤ Rx(x[2]) ├\n",
       "     ├───┤├──────────┤┌────┴─────┐            └────┬─────┘\n",
       "q_1: ┤ H ├┤ Ry(θ[1]) ├┤ Rx(x[0]) ├─────■───────────┼──────\n",
       "     ├───┤├──────────┤└──────────┘┌────┴─────┐     │      \n",
       "q_2: ┤ H ├┤ Ry(θ[2]) ├────────────┤ Rx(x[1]) ├─────■──────\n",
       "     └───┘└──────────┘            └──────────┘            "
      ]
     },
     "execution_count": 12,
     "metadata": {},
     "output_type": "execute_result"
    }
   ],
   "source": [
    "param_values = [up[0], up[1], up[2]]\n",
    "qk.assign_user_parameters(param_values)\n",
    "qk.feature_map.draw()"
   ]
  },
  {
   "cell_type": "code",
   "execution_count": 1,
   "id": "eede677a",
   "metadata": {},
   "outputs": [
    {
     "data": {
      "text/html": [
       "<h3>Version Information</h3><table><tr><th>Qiskit Software</th><th>Version</th></tr><tr><td><code>qiskit-terra</code></td><td>0.20.0</td></tr><tr><td><code>qiskit-aer</code></td><td>0.9.1</td></tr><tr><td><code>qiskit-ignis</code></td><td>0.7.0</td></tr><tr><td><code>qiskit-ibmq-provider</code></td><td>0.18.1</td></tr><tr><td><code>qiskit</code></td><td>0.33.0</td></tr><tr><td><code>qiskit-machine-learning</code></td><td>0.3.0</td></tr><tr><th>System information</th></tr><tr><td>Python version</td><td>3.8.10</td></tr><tr><td>Python compiler</td><td>Clang 10.0.0 </td></tr><tr><td>Python build</td><td>default, May 19 2021 11:01:55</td></tr><tr><td>OS</td><td>Darwin</td></tr><tr><td>CPUs</td><td>8</td></tr><tr><td>Memory (Gb)</td><td>32.0</td></tr><tr><td colspan='2'>Fri Dec 10 16:44:01 2021 CST</td></tr></table>"
      ],
      "text/plain": [
       "<IPython.core.display.HTML object>"
      ]
     },
     "metadata": {},
     "output_type": "display_data"
    },
    {
     "data": {
      "text/html": [
       "<div style='width: 100%; background-color:#d5d9e0;padding-left: 10px; padding-bottom: 10px; padding-right: 10px; padding-top: 5px'><h3>This code is a part of Qiskit</h3><p>&copy; Copyright IBM 2017, 2021.</p><p>This code is licensed under the Apache License, Version 2.0. You may<br>obtain a copy of this license in the LICENSE.txt file in the root directory<br> of this source tree or at http://www.apache.org/licenses/LICENSE-2.0.<p>Any modifications or derivative works of this code must retain this<br>copyright notice, and modified files need to carry a notice indicating<br>that they have been altered from the originals.</p></div>"
      ],
      "text/plain": [
       "<IPython.core.display.HTML object>"
      ]
     },
     "metadata": {},
     "output_type": "display_data"
    }
   ],
   "source": [
    "import qiskit.tools.jupyter\n",
    "%qiskit_version_table\n",
    "%qiskit_copyright"
   ]
  }
 ],
 "metadata": {
  "kernelspec": {
   "display_name": "Python 3",
   "language": "python",
   "name": "python3"
  },
  "language_info": {
   "codemirror_mode": {
    "name": "ipython",
    "version": 3
   },
   "file_extension": ".py",
   "mimetype": "text/x-python",
   "name": "python",
   "nbconvert_exporter": "python",
   "pygments_lexer": "ipython3",
   "version": "3.8.10"
  }
 },
 "nbformat": 4,
 "nbformat_minor": 5
}
