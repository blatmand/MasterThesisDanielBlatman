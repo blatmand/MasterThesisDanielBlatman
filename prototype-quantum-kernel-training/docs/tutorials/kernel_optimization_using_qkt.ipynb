{
 "cells": [
  {
   "cell_type": "markdown",
   "id": "38df9aa0",
   "metadata": {},
   "source": [
    "# Quantum Kernel Training for Machine Learning Applications\n",
    "\n",
    "In this tutorial, we will train a quantum kernel on a labeled dataset for a machine learning application. To illustrate the basic steps, we will use Quantum Kernel Alignment (QKA) for a binary classification task. QKA is a technique that iteratively adapts a parametrized quantum kernel to a dataset while converging to the maximum SVM margin. More information about QKA can be found in the [background material](https://github.com/qiskit-community/prototype-quantum-kernel-training/blob/main/docs/background/svm_weighted_kernel_alignment.ipynb) and in the preprint [\"Covariant quantum kernels for data with group structure.\"](https://arxiv.org/abs/2105.03406)\n",
    "\n",
    "The QKT Tookit enables kernel training for loss functions and learning problems beyond QKA. Check out the [how-to guides](https://github.com/qiskit-community/prototype-quantum-kernel-training/tree/main/docs/how_tos) for information on building custom kernel training algorithms within this framework.  \n",
    "\n",
    "The entry point to training a quantum kernel is the `QuantumKernelTrainer`. The basic steps are:\n",
    "\n",
    "1. Prepare the dataset\n",
    "2. Define the quantum feature map\n",
    "3. Set up the `QuantumKernel` and `QuantumKernelTrainer` objects\n",
    "4. Use the `QuantumKernelTrainer.fit_kernel` method to train the kernel parameters on the dataset\n",
    "5. Pass the trained quantum kernel to a machine learning model"
   ]
  },
  {
   "cell_type": "markdown",
   "id": "ed6aafa9",
   "metadata": {},
   "source": [
    "### Import Local, External, and Qiskit Packages"
   ]
  },
  {
   "cell_type": "code",
   "execution_count": 1,
   "id": "1a646351",
   "metadata": {},
   "outputs": [],
   "source": [
    "#pylint: disable=import-error, wrong-import-position\n",
    "\n",
    "# Python imports\n",
    "import os\n",
    "import sys\n",
    "\n",
    "# External imports\n",
    "from pylab import cm\n",
    "from sklearn import metrics\n",
    "import numpy as np\n",
    "import matplotlib.pyplot as plt\n",
    "%matplotlib inline\n",
    "\n",
    "# Qiskit imports\n",
    "from qiskit import BasicAer\n",
    "from qiskit.visualization import circuit_drawer\n",
    "from qiskit.algorithms.optimizers import SPSA\n",
    "from qiskit_machine_learning.kernels import QuantumKernel\n",
    "from qiskit_machine_learning.kernels.algorithms import QuantumKernelTrainer\n",
    "from qiskit_machine_learning.algorithms import QSVC\n",
    "\n",
    "# Put this repository on the Python path and import qkt pkgs\n",
    "module_path = os.path.abspath(os.path.join('../..'))\n",
    "sys.path.append(module_path)\n",
    "from qkt.feature_maps import CovariantFeatureMap\n",
    "from qkt.utils import train_test_split, QKTCallback"
   ]
  },
  {
   "cell_type": "markdown",
   "id": "39535c04",
   "metadata": {},
   "source": [
    "### Prepare the Dataset\n",
    "\n",
    "We start by preparing the dataset. In this example, we load the file `dataset_graph7.csv` from the QKT Toolkit located [here](https://github.com/qiskit-community/prototype-quantum-kernel-training/tree/main/data). More information about the structure of this particular dataset is in the [background material](https://github.com/qiskit-community/prototype-quantum-kernel-training/blob/main/docs/background/qkernels_and_data_w_group_structure.ipynb). If we inspect the dataset, we see that each sample has $7\\times2=14$ features and the labels are binary $\\pm1$."
   ]
  },
  {
   "cell_type": "code",
   "execution_count": 2,
   "id": "2311cff1",
   "metadata": {},
   "outputs": [],
   "source": [
    "# Load the dataset and split into train and test sets\n",
    "DATA_FILEPATH = '../../data/dataset_graph7.csv'\n",
    "X_train, y_train, X_test, y_test = train_test_split(DATA_FILEPATH)"
   ]
  },
  {
   "cell_type": "markdown",
   "id": "41a439be",
   "metadata": {},
   "source": [
    "### Define the Quantum Feature Map\n",
    "\n",
    "Next, we set up the quantum feature map, which encodes classical data into the quantum state space. Here, we import the `CovariantFeatureMap` map from the QKT Toolkit. This feature map is tailored to the group structure of this particular dataset. For a deeper look into covariant quantum kernels for data with group structure check out the [background material](https://github.com/qiskit-community/prototype-quantum-kernel-training/blob/main/docs/background/qkernels_and_data_w_group_structure.ipynb). For more information on defining quantum feature maps in Qiskit, check out our guides on [creating custom feature maps](https://github.com/qiskit-community/prototype-quantum-kernel-training/blob/main/docs/how_tos/create_custom_quantum_feature_map.ipynb) and [building trainable feature maps from existing circuits in Qiskit's circuit library](https://github.com/qiskit-community/prototype-quantum-kernel-training/blob/main/docs/how_tos/train_kernels_using_qiskit_feature_maps.ipynb). \n",
    "\n",
    "To instantiate the `CovariantFeatureMap`, we specify:\n",
    "- Feature dimension\n",
    "- Entanglement structure of the quantum circuit\n",
    "- Type of parametrization for the trainable parameters\n",
    "\n",
    "In this example, we set the `feature_dimension` to that of the dataset. In addition, the `entanglement` parameter controls the structure of the [fiducial state of the covariant quantum feature map](https://github.com/qiskit-community/prototype-quantum-kernel-training/blob/main/docs/background/qkernels_and_data_w_group_structure.ipynb). We choose `entanglement` to match the graph used to generate the dataset (a subgraph of the [heavy-hexagon lattice](https://www.ibm.com/blogs/research/2020/09/hardware-aware-quantum/)). With this selection, we expect our model to perform well on this dataset. However, other entanglement structures can be used if one does not have prior knowledge of what might constitute a good choice.\n",
    "\n",
    "We parametrize our quantum feature map with a single parameter (a rotation angle) applied to all qubits. Alternatively, we could apply a unique, independent parameter to each qubit by setting the `single_training_parameter` flag to `False` in `CovariantFeatureMap`."
   ]
  },
  {
   "cell_type": "code",
   "execution_count": 3,
   "id": "60b58ede",
   "metadata": {},
   "outputs": [
    {
     "data": {
      "text/html": [
       "<pre style=\"word-wrap: normal;white-space: pre;background: #fff0;line-height: 1.1;font-family: &quot;Courier New&quot;,Courier,monospace\">     ┌──────────────┐             ░ ┌─────────────────┐ ┌─────────────────┐ \n",
       "q_0: ┤ Ry(θ_par[0]) ├─■───────────░─┤ Rz(-2*x_par[1]) ├─┤ Rx(-2*x_par[0]) ├─\n",
       "     ├──────────────┤ │           ░ ├─────────────────┤ ├─────────────────┤ \n",
       "q_1: ┤ Ry(θ_par[0]) ├─┼─────■─────░─┤ Rz(-2*x_par[3]) ├─┤ Rx(-2*x_par[2]) ├─\n",
       "     ├──────────────┤ │     │     ░ ├─────────────────┤ ├─────────────────┤ \n",
       "q_2: ┤ Ry(θ_par[0]) ├─■──■──┼──■──░─┤ Rz(-2*x_par[5]) ├─┤ Rx(-2*x_par[4]) ├─\n",
       "     ├──────────────┤    │  │  │  ░ ├─────────────────┤ ├─────────────────┤ \n",
       "q_3: ┤ Ry(θ_par[0]) ├─■──┼──┼──■──░─┤ Rz(-2*x_par[7]) ├─┤ Rx(-2*x_par[6]) ├─\n",
       "     ├──────────────┤ │  │  │     ░ ├─────────────────┤ ├─────────────────┤ \n",
       "q_4: ┤ Ry(θ_par[0]) ├─■──┼──■──■──░─┤ Rz(-2*x_par[9]) ├─┤ Rx(-2*x_par[8]) ├─\n",
       "     ├──────────────┤    │     │  ░ ├─────────────────┴┐├─────────────────┴┐\n",
       "q_5: ┤ Ry(θ_par[0]) ├────■─────┼──░─┤ Rz(-2*x_par[11]) ├┤ Rx(-2*x_par[10]) ├\n",
       "     ├──────────────┤          │  ░ ├──────────────────┤├──────────────────┤\n",
       "q_6: ┤ Ry(θ_par[0]) ├──────────■──░─┤ Rz(-2*x_par[13]) ├┤ Rx(-2*x_par[12]) ├\n",
       "     └──────────────┘             ░ └──────────────────┘└──────────────────┘</pre>"
      ],
      "text/plain": [
       "     ┌──────────────┐             ░ ┌─────────────────┐ ┌─────────────────┐ \n",
       "q_0: ┤ Ry(θ_par[0]) ├─■───────────░─┤ Rz(-2*x_par[1]) ├─┤ Rx(-2*x_par[0]) ├─\n",
       "     ├──────────────┤ │           ░ ├─────────────────┤ ├─────────────────┤ \n",
       "q_1: ┤ Ry(θ_par[0]) ├─┼─────■─────░─┤ Rz(-2*x_par[3]) ├─┤ Rx(-2*x_par[2]) ├─\n",
       "     ├──────────────┤ │     │     ░ ├─────────────────┤ ├─────────────────┤ \n",
       "q_2: ┤ Ry(θ_par[0]) ├─■──■──┼──■──░─┤ Rz(-2*x_par[5]) ├─┤ Rx(-2*x_par[4]) ├─\n",
       "     ├──────────────┤    │  │  │  ░ ├─────────────────┤ ├─────────────────┤ \n",
       "q_3: ┤ Ry(θ_par[0]) ├─■──┼──┼──■──░─┤ Rz(-2*x_par[7]) ├─┤ Rx(-2*x_par[6]) ├─\n",
       "     ├──────────────┤ │  │  │     ░ ├─────────────────┤ ├─────────────────┤ \n",
       "q_4: ┤ Ry(θ_par[0]) ├─■──┼──■──■──░─┤ Rz(-2*x_par[9]) ├─┤ Rx(-2*x_par[8]) ├─\n",
       "     ├──────────────┤    │     │  ░ ├─────────────────┴┐├─────────────────┴┐\n",
       "q_5: ┤ Ry(θ_par[0]) ├────■─────┼──░─┤ Rz(-2*x_par[11]) ├┤ Rx(-2*x_par[10]) ├\n",
       "     ├──────────────┤          │  ░ ├──────────────────┤├──────────────────┤\n",
       "q_6: ┤ Ry(θ_par[0]) ├──────────■──░─┤ Rz(-2*x_par[13]) ├┤ Rx(-2*x_par[12]) ├\n",
       "     └──────────────┘             ░ └──────────────────┘└──────────────────┘"
      ]
     },
     "execution_count": 3,
     "metadata": {},
     "output_type": "execute_result"
    }
   ],
   "source": [
    "num_features = np.shape(X_train)[1]\n",
    "entangler_map = [[0,2],[3,4],[2,5],[1,4],[2,3],[4,6]]\n",
    "\n",
    "# Note that [[0,1],[2,3],[4,5],[6,7],[8,9],[1,2],[3,4],[5,6],[7,8]]\n",
    "# is a suitable input for the 10-qubit dataset\n",
    "\n",
    "fm = CovariantFeatureMap(\n",
    "    feature_dimension=num_features,\n",
    "    entanglement=entangler_map,\n",
    "    single_training_parameter=True\n",
    ")\n",
    "circuit_drawer(fm)"
   ]
  },
  {
   "cell_type": "markdown",
   "id": "cd4f5951",
   "metadata": {},
   "source": [
    "The trainable parameters can be extracted from the CovariantFeatureMap class (in this case, a single parameter for all qubits):"
   ]
  },
  {
   "cell_type": "code",
   "execution_count": 4,
   "id": "d8c276cd",
   "metadata": {},
   "outputs": [
    {
     "name": "stdout",
     "output_type": "stream",
     "text": [
      "θ_par, ['θ_par[0]']\n"
     ]
    }
   ],
   "source": [
    "print(fm.user_parameters)"
   ]
  },
  {
   "cell_type": "markdown",
   "id": "54ae41ca",
   "metadata": {},
   "source": [
    "### Set Up the Quantum Kernel and Quantum Kernel Trainer\n",
    "\n",
    "To train the quantum kernel, we need a `QuantumKernel` (holds the feature map and its parameters as well as a backend) and `QuantumKernelTrainer` (manages the training process).\n",
    "\n",
    "Since we will train with a Qiskit-supported loss function, `SVCLoss`, we specify the corresponding loss function of the `QuantumKernelTrainer` with the string `\"svc_loss\"`. Note that default settings of the loss function are used when passing it as a string. For custom settings, instantiate the loss explicitly with the desired values. Check out [this guide](https://github.com/qiskit-community/prototype-quantum-kernel-training/blob/main/docs/how_tos/create_custom_kernel_loss_function.ipynb) on how to define and use custom kernel loss functions. \n",
    "\n",
    "Additionally, we select SPSA as the optimizer and initialize the trainable parameter to 0.1 with `initial_point`.\n",
    "\n",
    "*Note: The length of the list passed as the `initial_point` argument must equal the number of trainable parameters in the feature map.*"
   ]
  },
  {
   "cell_type": "code",
   "execution_count": 5,
   "id": "a190efef",
   "metadata": {},
   "outputs": [],
   "source": [
    "# Use the qasm simulator backend\n",
    "backend = BasicAer.get_backend('statevector_simulator')\n",
    "\n",
    "# Instantiate quantum kernel\n",
    "quant_kernel = QuantumKernel(fm,\n",
    "                             user_parameters=fm.user_parameters,\n",
    "                             quantum_instance=backend)\n",
    "\n",
    "# Set up the optimizer\n",
    "cb_qkt = QKTCallback()\n",
    "spsa_opt = SPSA(maxiter=5,\n",
    "                callback=cb_qkt.callback,\n",
    "                learning_rate=0.1,\n",
    "                perturbation=0.1\n",
    "           )\n",
    "\n",
    "# Instantiate a quantum kernel trainer.\n",
    "qkt = QuantumKernelTrainer(\n",
    "    quantum_kernel=quant_kernel,\n",
    "    loss=\"svc_loss\",\n",
    "    optimizer=spsa_opt,\n",
    "    initial_point=[0.1]*len(fm.user_parameters)\n",
    ")"
   ]
  },
  {
   "cell_type": "markdown",
   "id": "b6f4fd48",
   "metadata": {},
   "source": [
    "### Train the Quantum Kernel\n",
    "\n",
    "To train the quantum kernel on the dataset (samples and labels), we call the `fit_kernel` method of `QuantumKernelTrainer`."
   ]
  },
  {
   "cell_type": "code",
   "execution_count": 6,
   "id": "9d26212c",
   "metadata": {},
   "outputs": [],
   "source": [
    "# Train the kernel using QKT directly\n",
    "qka_results = qkt.fit(X_train, y_train)\n",
    "optimized_kernel = qka_results.quantum_kernel"
   ]
  },
  {
   "cell_type": "markdown",
   "id": "5455be3c",
   "metadata": {},
   "source": [
    "### Fit and Test the Model\n",
    "\n",
    "We can pass the trained quantum kernel to a machine learning model, then fit the model and test on new data. Here, we will use Qiskit's `QSVC` for classification."
   ]
  },
  {
   "cell_type": "code",
   "execution_count": 7,
   "id": "e716655f",
   "metadata": {},
   "outputs": [
    {
     "name": "stdout",
     "output_type": "stream",
     "text": [
      "accuracy test: 1.0\n"
     ]
    }
   ],
   "source": [
    "# Use QSVC for classification\n",
    "qsvc = QSVC(quantum_kernel=optimized_kernel)\n",
    "\n",
    "# Fit the QSVC\n",
    "qsvc.fit(X_train, y_train)\n",
    "\n",
    "# Predict the labels\n",
    "labels_test = qsvc.predict(X_test)\n",
    "\n",
    "# Evalaute the test accuracy\n",
    "accuracy_test = metrics.balanced_accuracy_score(y_true=y_test, y_pred=labels_test)\n",
    "print(f\"accuracy test: {accuracy_test}\")"
   ]
  },
  {
   "cell_type": "markdown",
   "id": "9cd4cbf2",
   "metadata": {},
   "source": [
    "### Visualize the Kernel Training Process\n",
    "\n",
    "From the callback data, we can plot how the loss evolves during the training process. We see it converges rapidly and reaches 100% test accuracy on this dataset with our choice of inputs.\n",
    "\n",
    "We can also display the final kernel matrix evaluated on the training data. As expected for this dataset, the matrix has a block-diagonal structure. This reflects the fact that this covariant quantum kernel maps the input data of this learning problem to [approximately two quantum feature states](https://github.com/qiskit-community/prototype-quantum-kernel-training/blob/main/docs/background/qkernels_and_data_w_group_structure.ipynb). The small noise that was added to the data, along with the noise when evaluating on a real quantum device, perturbs these two feature states into two small clusters of feature states that should remain easily separable by the machine learning model when the noise is sufficiently small."
   ]
  },
  {
   "cell_type": "code",
   "execution_count": 8,
   "id": "0cb85c46",
   "metadata": {},
   "outputs": [
    {
     "data": {
      "image/png": "[encoded data removed]",
      "text/plain": [
       "<Figure size 1008x360 with 2 Axes>"
      ]
     },
     "metadata": {
      "needs_background": "light"
     },
     "output_type": "display_data"
    }
   ],
   "source": [
    "plot_data = cb_qkt.get_callback_data() # callback data\n",
    "K=optimized_kernel.evaluate(X_train) # kernel matrix evaluated on the training samples\n",
    "\n",
    "plt.rcParams['font.size'] = 20\n",
    "fig, ax = plt.subplots(1,2, figsize=(14,5))\n",
    "ax[0].plot([i+1 for i in range(len(plot_data[0]))],\n",
    "           np.array(plot_data[2]),\n",
    "           c='k',\n",
    "           marker='o'\n",
    ")\n",
    "ax[0].set_xlabel('Iterations')\n",
    "ax[0].set_ylabel('Loss')\n",
    "ax[1].imshow(K, cmap=cm.get_cmap('bwr', 20))\n",
    "ax[1].axis('off')\n",
    "fig.tight_layout()\n",
    "plt.show()"
   ]
  },
  {
   "cell_type": "code",
   "execution_count": 9,
   "id": "aa6e50bc",
   "metadata": {},
   "outputs": [
    {
     "data": {
      "text/html": [
       "<h3>Version Information</h3><table><tr><th>Qiskit Software</th><th>Version</th></tr><tr><td><code>qiskit-terra</code></td><td>0.19.1</td></tr><tr><td><code>qiskit-aer</code></td><td>0.10.2</td></tr><tr><td><code>qiskit-ignis</code></td><td>0.7.0</td></tr><tr><td><code>qiskit-ibmq-provider</code></td><td>0.18.3</td></tr><tr><td><code>qiskit</code></td><td>0.34.1</td></tr><tr><td><code>qiskit-nature</code></td><td>0.1.1</td></tr><tr><td><code>qiskit-machine-learning</code></td><td>0.3.0</td></tr><tr><th>System information</th></tr><tr><td>Python version</td><td>3.8.10</td></tr><tr><td>Python compiler</td><td>Clang 10.0.0 </td></tr><tr><td>Python build</td><td>default, May 19 2021 11:01:55</td></tr><tr><td>OS</td><td>Darwin</td></tr><tr><td>CPUs</td><td>8</td></tr><tr><td>Memory (Gb)</td><td>32.0</td></tr><tr><td colspan='2'>Tue Jan 11 10:27:01 2022 CST</td></tr></table>"
      ],
      "text/plain": [
       "<IPython.core.display.HTML object>"
      ]
     },
     "metadata": {},
     "output_type": "display_data"
    },
    {
     "data": {
      "text/html": [
       "<div style='width: 100%; background-color:#d5d9e0;padding-left: 10px; padding-bottom: 10px; padding-right: 10px; padding-top: 5px'><h3>This code is a part of Qiskit</h3><p>&copy; Copyright IBM 2017, 2022.</p><p>This code is licensed under the Apache License, Version 2.0. You may<br>obtain a copy of this license in the LICENSE.txt file in the root directory<br> of this source tree or at http://www.apache.org/licenses/LICENSE-2.0.<p>Any modifications or derivative works of this code must retain this<br>copyright notice, and modified files need to carry a notice indicating<br>that they have been altered from the originals.</p></div>"
      ],
      "text/plain": [
       "<IPython.core.display.HTML object>"
      ]
     },
     "metadata": {},
     "output_type": "display_data"
    }
   ],
   "source": [
    "import qiskit.tools.jupyter\n",
    "%qiskit_version_table\n",
    "%qiskit_copyright"
   ]
  }
 ],
 "metadata": {
  "kernelspec": {
   "display_name": "Python 3",
   "language": "python",
   "name": "python3"
  },
  "language_info": {
   "codemirror_mode": {
    "name": "ipython",
    "version": 3
   },
   "file_extension": ".py",
   "mimetype": "text/x-python",
   "name": "python",
   "nbconvert_exporter": "python",
   "pygments_lexer": "ipython3",
   "version": "3.8.10"
  },
  "rise": {
   "height": "90%",
   "scroll": true,
   "start_slideshow_at": "beginning",
   "theme": "white",
   "transition": "zoom",
   "width": "90%"
  }
 },
 "nbformat": 4,
 "nbformat_minor": 5
}
